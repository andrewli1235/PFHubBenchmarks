{
 "cells": [
  {
   "cell_type": "code",
   "execution_count": 1,
   "id": "a1e1ac9f",
   "metadata": {},
   "outputs": [],
   "source": [
    "#\n",
    "import dolfin as df\n",
    "import numpy as np\n",
    "import matplotlib.pyplot as plt\n",
    "import time\n",
    "import os\n",
    "\n",
    "from pfbase_ali_mod import *\n",
    "from ufl import split, dx, inner, grad, variable, diff\n",
    "\n",
    "save_solution = True"
   ]
  },
  {
   "cell_type": "code",
   "execution_count": 2,
   "id": "e28c0c43",
   "metadata": {},
   "outputs": [],
   "source": [
    "\n",
    "###################################\n",
    "# Optimization options for the finite element form compiler\n",
    "###################################\n",
    "df.parameters[\"form_compiler\"][\"cpp_optimize\"] = True\n",
    "df.parameters['form_compiler']['cpp_optimize_flags'] = '-O3 -ffast-math'\n",
    "df.parameters[\"form_compiler\"][\"quadrature_degree\"] = 3\n",
    "\n",
    "###################################\n",
    "# Create or read mesh\n",
    "###################################\n",
    "Lx = 25.\n",
    "Ly = 1.\n",
    "Nx = 250\n",
    "Ny = 10\n",
    "mesh = df.RectangleMesh(df.Point(0.0, 0.0), df.Point(Lx, Ly), Nx, Ny, 'crossed')\n",
    "\n"
   ]
  },
  {
   "cell_type": "code",
   "execution_count": 3,
   "id": "1ae2dce0",
   "metadata": {},
   "outputs": [],
   "source": [
    "P1 = df.FunctionSpace(mesh, 'P', 1)\n",
    "PE = P1.ufl_element()\n",
    "ME = [PE, PE]\n",
    "ME = df.MixedElement(ME)\n",
    "W  = df.FunctionSpace(mesh,  ME)\n",
    "\n",
    "w  = df.Function(W)\n",
    "dw = df.TrialFunction(W)\n",
    "w_ = df.TestFunction(W)"
   ]
  },
  {
   "cell_type": "code",
   "execution_count": 4,
   "id": "737a45b3",
   "metadata": {},
   "outputs": [],
   "source": [
    "ux, uy = df.split(w)\n",
    "ux = df.variable(ux)\n",
    "uy = df.variable(uy)\n",
    "\n",
    "\n",
    "#dux, duy = df.split(dw)\n",
    "#dux = df.variable(dux)\n",
    "#duy = df.variable(duy)"
   ]
  },
  {
   "cell_type": "code",
   "execution_count": 5,
   "id": "3b08cf3d",
   "metadata": {},
   "outputs": [],
   "source": [
    "# this function returns the total strain tensor components\n",
    "# vx = x component of the displacement vector, vy = y component of the displacement\n",
    "def eps(vx, vy):\n",
    "    duxdx, duxdy = df.grad(vx)\n",
    "    duydx, duydy = df.grad(vy)\n",
    "    eps_xx = duxdx\n",
    "    eps_xy = 0.5*(duxdy+duydx) # eps_yx = eps_xy\n",
    "    eps_yy = duydy\n",
    "    return eps_xx, eps_xy, eps_yy \n",
    "\n",
    "#plane stress case\n",
    "\n",
    "E = Constant(1e5)\n",
    "nu = Constant(0.3)\n",
    "mu = E/2/(1+nu)\n",
    "lmbda = E*nu/(1+nu)/(1-2*nu)\n",
    "\n",
    "#loading condition\n",
    "rho_g = 1e-3\n",
    "f = df.Constant((0, -rho_g))\n",
    "\n",
    "\n",
    "def sigma(vx, vy, mu_0 = mu, lmbda_0 = lmbda):\n",
    "    eps_xx, eps_xy, eps_yy = eps(vx, vy)\n",
    "    \n",
    "    \n",
    "    sigma_xx = lmbda_0*(eps_xx+eps_yy) + 2*mu_0*eps_xx\n",
    "    sigma_xy = 2*mu_0*eps_xy                # sigma_yx = sigma_xy\n",
    "    sigma_yy = lmbda_0*(eps_xx+eps_yy) + 2*mu_0*eps_yy\n",
    "    \n",
    "    return sigma_xx, sigma_xy, sigma_yy"
   ]
  },
  {
   "cell_type": "code",
   "execution_count": 6,
   "id": "204eab69",
   "metadata": {},
   "outputs": [],
   "source": [
    "eps_xx, eps_xy, eps_yy = eps(ux, uy)\n",
    "sigma_xx, sigma_xy, sigma_yy = sigma(ux, uy, mu, lmbda)\n",
    "#sigma_xx_x, sigma_xx_y = df.grad(sigma_xx)\n",
    "#sigma_xy_x, sigma_xy_y = df.grad(sigma_xy)\n",
    "#sigma_yy_x, sigma_yy_y = df.grad(sigma_yy)\n",
    "\n",
    "\n",
    "a_x = w_[0]*(sigma_xx*eps_xx+sigma_xy*eps_xy)*dx\n",
    "l_x = 0\n",
    "\n",
    "a_y =  w_[1]*(sigma_xy*eps_xy+sigma_yy*eps_yy)*dx\n",
    "\n",
    "l_y = w_[1]*df.Constant(-rho_g)*dx\n",
    "\n"
   ]
  },
  {
   "cell_type": "code",
   "execution_count": 7,
   "id": "265bce75",
   "metadata": {},
   "outputs": [],
   "source": [
    "def left(x, on_boundary):\n",
    "    return near(x[0], 0.)\n",
    "\n",
    "bc = DirichletBC(W, Constant((0.,0.)), left)"
   ]
  },
  {
   "cell_type": "code",
   "execution_count": 8,
   "id": "c5044b7b",
   "metadata": {},
   "outputs": [],
   "source": [
    "def F_ux_weak_form(vx_, vy_, vx, vy, fx, mu_0 = mu, lmbda_0 = lmbda):\n",
    "    eps_xx, eps_xy, eps_yy = eps(vx_, vy_)\n",
    "    sigma_xx, sigma_xy, sigma_yy = sigma(vx, vy, mu_0, lmbda_0)\n",
    "    lhs = (sigma_xx*eps_xx+sigma_xy*eps_xy)*dx\n",
    "    rhs = vx_*fx*dx\n",
    "\n",
    "    F = lhs - rhs\n",
    "\n",
    "    return F\n",
    "\n",
    "def F_uy_weak_form(vx_, vy_, vx, vy, fy, mu_0 = mu, lmbda_0 = lmbda):\n",
    "    eps_xx, eps_xy, eps_yy = eps(vx_, vy_)\n",
    "    sigma_xx, sigma_xy, sigma_yy = sigma(vx, vy, mu_0, lmbda_0)\n",
    "\n",
    "    lhs =  (sigma_xy*eps_xy+sigma_yy*eps_yy)*dx\n",
    "    rhs = vy_*fy*dx\n",
    "\n",
    "    F = lhs - rhs\n",
    "\n",
    "    return F\n",
    "\n",
    "def F_u_weak_form_tot(vx_, vy_, vx, vy, fx, fy, mu_0 = mu, lmbda_0 = lmbda):\n",
    "    eps_xx, eps_xy, eps_yy = eps(vx_, vy_)\n",
    "    sigma_xx, sigma_xy, sigma_yy = sigma(vx, vy, mu_0, lmbda_0)\n",
    "\n",
    "    lhs = (sigma_xx*eps_xx+sigma_xy*eps_xy+sigma_xy*eps_xy+sigma_yy*eps_yy)*dx\n",
    "    rhs = (vx_*fx+vy_*fy)*dx\n",
    "\n",
    "    F = lhs  - rhs\n",
    "\n",
    "    return F\n"
   ]
  },
  {
   "cell_type": "code",
   "execution_count": 9,
   "id": "ec0f8cfc",
   "metadata": {},
   "outputs": [],
   "source": [
    "#F_mx = F_ux_weak_form(w_[0], w_[1], w[0], w[1], f[0])\n",
    "#F_my = F_ux_weak_form(w_[0], w_[1], w[0], w[1], f[1])\n",
    "#F = F_mx + F_my\n",
    "\n",
    "F = F_u_weak_form_tot(w_[0], w_[1], w[0], w[1], f[0], f[1])\n",
    "\n",
    "Wux, Wuy = W.split()"
   ]
  },
  {
   "cell_type": "code",
   "execution_count": 10,
   "id": "6d1649db",
   "metadata": {},
   "outputs": [],
   "source": [
    "tol = 1E-12\n",
    "def boundary_left(x, on_boundary):\n",
    "    return on_boundary and df.near(x[0], 0, tol)\n",
    "\n",
    "bc_ux_left  = df.DirichletBC(Wux, df.Constant(0.0), boundary_left)\n",
    "bc_uy_left  = df.DirichletBC(Wuy, df.Constant(0.0), boundary_left)\n",
    "\n",
    "\n",
    "\n",
    "bcs = [bc_ux_left, bc_uy_left]  # no-flux on top, bottom boundary\n",
    "\n",
    "###############\n",
    "J = df.derivative(F, w, dw)\n",
    "\n"
   ]
  },
  {
   "cell_type": "code",
   "execution_count": 11,
   "id": "64d226f2",
   "metadata": {},
   "outputs": [],
   "source": [
    "\n",
    "###################################\n",
    "# Nonlinear solver setup\n",
    "###################################\n",
    "#df.set_log_level(df.LogLevel.ERROR)\n",
    "\n",
    "problem = df.NonlinearVariationalProblem(F, w, bcs, J)\n",
    "solver  = df.NonlinearVariationalSolver(problem)\n",
    "\n",
    "#solver.parameters['nonlinear_solver'] = 'newton'\n",
    "#nlparams  = solver.parameters['newton_solver']\n",
    "\n",
    "solver.parameters['nonlinear_solver'] = 'snes'\n",
    "nlparams  = solver.parameters['snes_solver']\n",
    "\n",
    "nlparams['report'] = True\n",
    "nlparams['error_on_nonconvergence'] = False\n",
    "nlparams['absolute_tolerance'] = 1e-6\n",
    "nlparams['maximum_iterations'] = 1\n",
    "\n",
    "#\n",
    "# bactracig (bt) diverges with only Laplace eqn\n",
    "#nlparams['line_search'] = 'bt'      # WORKS (7s) for np=32, T=3.0\n",
    "nlparams['line_search'] = 'cp'       # (8s) #\n",
    "#nlparams['line_search'] = 'basic'   # (7s)\n",
    "#nlparams['line_search'] = 'nleqerr' # (15s)\n",
    "#nlparams['line_search'] = 'l2'      # FAILING\n",
    "\n",
    "# \n",
    "nlparams['linear_solver'] = 'gmres'\n",
    "nlparams['preconditioner'] = 'sor'\n",
    "\n",
    "#nlparams['linear_solver'] = 'gmres'\n",
    "#nlparams['linear_solver'] = 'bicgstab'\n",
    "#nlparams['linear_solver'] = 'minres'\n",
    "\n",
    "#nlparams['preconditioner'] = 'none'\n",
    "#nlparams['preconditioner'] = 'sor'\n",
    "#nlparams['preconditioner'] = 'petsc_amg'\n",
    "#nlparams['preconditioner'] = 'hypre_amg'\n",
    "\n",
    "nlparams['krylov_solver']['maximum_iterations'] = 5000\n",
    "nlparams['krylov_solver']['monitor_convergence'] = True\n"
   ]
  },
  {
   "cell_type": "code",
   "execution_count": null,
   "id": "d6d80faf",
   "metadata": {
    "scrolled": true
   },
   "outputs": [],
   "source": [
    "# solve\n",
    "print('start')\n",
    "niters, converged = solver.solve()"
   ]
  },
  {
   "cell_type": "code",
   "execution_count": null,
   "id": "1e2b125c",
   "metadata": {},
   "outputs": [],
   "source": [
    "print(niters)\n",
    "print(converged)"
   ]
  },
  {
   "cell_type": "code",
   "execution_count": null,
   "id": "152d15d5",
   "metadata": {},
   "outputs": [],
   "source": [
    "ux, uy = w.split()"
   ]
  },
  {
   "cell_type": "code",
   "execution_count": null,
   "id": "76a95940",
   "metadata": {},
   "outputs": [],
   "source": [
    "plot(ux*1e3, mode='displacement')\n"
   ]
  },
  {
   "cell_type": "code",
   "execution_count": null,
   "id": "c65041b1",
   "metadata": {},
   "outputs": [],
   "source": []
  }
 ],
 "metadata": {
  "kernelspec": {
   "display_name": "Python 3 (ipykernel)",
   "language": "python",
   "name": "python3"
  },
  "language_info": {
   "codemirror_mode": {
    "name": "ipython",
    "version": 3
   },
   "file_extension": ".py",
   "mimetype": "text/x-python",
   "name": "python",
   "nbconvert_exporter": "python",
   "pygments_lexer": "ipython3",
   "version": "3.11.0"
  }
 },
 "nbformat": 4,
 "nbformat_minor": 5
}
