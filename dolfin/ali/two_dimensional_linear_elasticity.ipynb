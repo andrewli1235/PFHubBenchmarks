{
 "cells": [
  {
   "cell_type": "code",
   "execution_count": 3,
   "id": "a1e1ac9f",
   "metadata": {},
   "outputs": [],
   "source": [
    "#\n",
    "import dolfin as df\n",
    "import numpy as np\n",
    "import matplotlib.pyplot as plt\n",
    "import time\n",
    "import os\n",
    "\n",
    "from pfbase_ali_mod import *\n",
    "from ufl import split, dx, ds, inner, grad, variable, diff\n",
    "\n",
    "save_solution = True"
   ]
  },
  {
   "cell_type": "code",
   "execution_count": 2,
   "id": "e28c0c43",
   "metadata": {},
   "outputs": [],
   "source": [
    "\n",
    "###################################\n",
    "# Optimization options for the finite element form compiler\n",
    "###################################\n",
    "df.parameters[\"form_compiler\"][\"cpp_optimize\"] = True\n",
    "df.parameters['form_compiler']['cpp_optimize_flags'] = '-O3 -ffast-math'\n",
    "df.parameters[\"form_compiler\"][\"quadrature_degree\"] = 3\n",
    "\n",
    "###################################\n",
    "# Create or read mesh\n",
    "###################################\n",
    "Lx = 25.\n",
    "Ly = 1.\n",
    "Nx = 250\n",
    "Ny = 10\n",
    "mesh = df.RectangleMesh(df.Point(0.0, 0.0), df.Point(Lx, Ly), Nx, Ny, 'crossed')\n",
    "\n"
   ]
  },
  {
   "cell_type": "code",
   "execution_count": 3,
   "id": "1ae2dce0",
   "metadata": {},
   "outputs": [],
   "source": [
    "P1 = df.FunctionSpace(mesh, 'P', 1)\n",
    "PE = P1.ufl_element()\n",
    "ME = [PE, PE]\n",
    "ME = df.MixedElement(ME)\n",
    "W  = df.FunctionSpace(mesh,  ME)\n",
    "\n",
    "w  = df.Function(W)\n",
    "dw = df.TrialFunction(W)\n",
    "w_ = df.TestFunction(W)"
   ]
  },
  {
   "cell_type": "code",
   "execution_count": 4,
   "id": "737a45b3",
   "metadata": {},
   "outputs": [],
   "source": [
    "ux, uy = df.split(w)\n",
    "ux = df.variable(ux)\n",
    "uy = df.variable(uy)\n",
    "\n",
    "\n",
    "#dux, duy = df.split(dw)\n",
    "#dux = df.variable(dux)\n",
    "#duy = df.variable(duy)"
   ]
  },
  {
   "cell_type": "code",
   "execution_count": 5,
   "id": "3b08cf3d",
   "metadata": {},
   "outputs": [],
   "source": [
    "# this function returns the total strain tensor components\n",
    "# vx = x component of the displacement vector, vy = y component of the displacement\n",
    "def eps(vx, vy):\n",
    "    duxdx, duxdy = df.grad(vx)\n",
    "    duydx, duydy = df.grad(vy)\n",
    "    eps_xx = duxdx\n",
    "    eps_xy = 0.5*(duxdy+duydx) # eps_yx = eps_xy\n",
    "    eps_yy = duydy\n",
    "    return eps_xx, eps_xy, eps_yy \n",
    "\n",
    "#plane stress case\n",
    "\n",
    "E = Constant(1e5)\n",
    "nu = Constant(0.3)\n",
    "mu = E/2/(1+nu)\n",
    "lmbda = E*nu/(1+nu)/(1-2*nu)\n",
    "\n",
    "#loading condition\n",
    "rho_g = 1e-3\n",
    "f = df.Constant((0, -rho_g))\n",
    "\n",
    "\n",
    "def sigma(vx, vy, mu_0 = mu, lmbda_0 = lmbda):\n",
    "    eps_xx, eps_xy, eps_yy = eps(vx, vy)\n",
    "    \n",
    "    \n",
    "    sigma_xx = lmbda_0*(eps_xx+eps_yy) + 2*mu_0*eps_xx\n",
    "    sigma_xy = 2*mu_0*eps_xy                # sigma_yx = sigma_xy\n",
    "    sigma_yy = lmbda_0*(eps_xx+eps_yy) + 2*mu_0*eps_yy\n",
    "    \n",
    "    return sigma_xx, sigma_xy, sigma_yy"
   ]
  },
  {
   "cell_type": "code",
   "execution_count": 6,
   "id": "204eab69",
   "metadata": {},
   "outputs": [],
   "source": [
    "eps_xx, eps_xy, eps_yy = eps(ux, uy)\n",
    "sigma_xx, sigma_xy, sigma_yy = sigma(ux, uy, mu, lmbda)\n",
    "#sigma_xx_x, sigma_xx_y = df.grad(sigma_xx)\n",
    "#sigma_xy_x, sigma_xy_y = df.grad(sigma_xy)\n",
    "#sigma_yy_x, sigma_yy_y = df.grad(sigma_yy)\n",
    "\n",
    "\n",
    "a_x = w_[0]*(sigma_xx*eps_xx+sigma_xy*eps_xy)*dx\n",
    "l_x = 0\n",
    "\n",
    "a_y =  w_[1]*(sigma_xy*eps_xy+sigma_yy*eps_yy)*dx\n",
    "\n",
    "l_y = w_[1]*df.Constant(-rho_g)*dx\n",
    "\n"
   ]
  },
  {
   "cell_type": "code",
   "execution_count": 7,
   "id": "265bce75",
   "metadata": {},
   "outputs": [],
   "source": [
    "def left(x, on_boundary):\n",
    "    return near(x[0], 0.)\n",
    "\n",
    "bc = DirichletBC(W, Constant((0.,0.)), left)"
   ]
  },
  {
   "cell_type": "code",
   "execution_count": 8,
   "id": "c5044b7b",
   "metadata": {},
   "outputs": [],
   "source": [
    "def F_ux_weak_form(vx_, vy_, vx, vy, fx, mu_0 = mu, lmbda_0 = lmbda):\n",
    "    eps_xx, eps_xy, eps_yy = eps(vx_, vy_)\n",
    "    sigma_xx, sigma_xy, sigma_yy = sigma(vx, vy, mu_0, lmbda_0)\n",
    "    lhs = (sigma_xx*eps_xx+sigma_xy*eps_xy)*dx\n",
    "    rhs = vx_*fx*dx\n",
    "\n",
    "    F = lhs - rhs\n",
    "\n",
    "    return F\n",
    "\n",
    "def F_uy_weak_form(vx_, vy_, vx, vy, fy, mu_0 = mu, lmbda_0 = lmbda):\n",
    "    eps_xx, eps_xy, eps_yy = eps(vx_, vy_)\n",
    "    sigma_xx, sigma_xy, sigma_yy = sigma(vx, vy, mu_0, lmbda_0)\n",
    "\n",
    "    lhs =  (sigma_xy*eps_xy+sigma_yy*eps_yy)*dx\n",
    "    rhs = vy_*fy*dx\n",
    "\n",
    "    F = lhs - rhs\n",
    "\n",
    "    return F\n",
    "\n",
    "def F_u_weak_form_tot(vx_, vy_, vx, vy, fx, fy, mu_0 = mu, lmbda_0 = lmbda):\n",
    "    eps_xx, eps_xy, eps_yy = eps(vx_, vy_)\n",
    "    sigma_xx, sigma_xy, sigma_yy = sigma(vx, vy, mu_0, lmbda_0)\n",
    "\n",
    "    lhs = (sigma_xx*eps_xx+sigma_xy*eps_xy+sigma_xy*eps_xy+sigma_yy*eps_yy)*dx\n",
    "    rhs = (vx_*fx+vy_*fy)*dx\n",
    "\n",
    "    F = lhs  - rhs\n",
    "\n",
    "    return F\n"
   ]
  },
  {
   "cell_type": "code",
   "execution_count": 9,
   "id": "ec0f8cfc",
   "metadata": {},
   "outputs": [],
   "source": [
    "#F_mx = F_ux_weak_form(w_[0], w_[1], w[0], w[1], f[0])\n",
    "#F_my = F_ux_weak_form(w_[0], w_[1], w[0], w[1], f[1])\n",
    "#F = F_mx + F_my\n",
    "\n",
    "F = F_u_weak_form_tot(w_[0], w_[1], w[0], w[1], f[0], f[1])\n",
    "\n",
    "Wux, Wuy = W.split()"
   ]
  },
  {
   "cell_type": "code",
   "execution_count": 10,
   "id": "6d1649db",
   "metadata": {},
   "outputs": [],
   "source": [
    "tol = 1E-12\n",
    "def boundary_left(x, on_boundary):\n",
    "    return on_boundary and df.near(x[0], 0, tol)\n",
    "\n",
    "bc_ux_left  = df.DirichletBC(Wux, df.Constant(0.0), boundary_left)\n",
    "bc_uy_left  = df.DirichletBC(Wuy, df.Constant(0.0), boundary_left)\n",
    "\n",
    "\n",
    "\n",
    "bcs = [bc_ux_left, bc_uy_left]  # no-flux on top, bottom boundary\n",
    "\n",
    "###############\n",
    "J = df.derivative(F, w, dw)\n",
    "\n"
   ]
  },
  {
   "cell_type": "code",
   "execution_count": 11,
   "id": "64d226f2",
   "metadata": {},
   "outputs": [],
   "source": [
    "\n",
    "###################################\n",
    "# Nonlinear solver setup\n",
    "###################################\n",
    "#df.set_log_level(df.LogLevel.ERROR)\n",
    "\n",
    "problem = df.NonlinearVariationalProblem(F, w, bcs, J)\n",
    "solver  = df.NonlinearVariationalSolver(problem)\n",
    "\n",
    "#solver.parameters['nonlinear_solver'] = 'newton'\n",
    "#nlparams  = solver.parameters['newton_solver']\n",
    "\n",
    "solver.parameters['nonlinear_solver'] = 'snes'\n",
    "nlparams  = solver.parameters['snes_solver']\n",
    "\n",
    "\n",
    "\n",
    "nlparams['report'] = True\n",
    "nlparams['error_on_nonconvergence'] = False\n",
    "nlparams['absolute_tolerance'] = 1e-6\n",
    "nlparams['maximum_iterations'] = 30\n",
    "\n",
    "#\n",
    "# bactracig (bt) diverges with only Laplace eqn\n",
    "#nlparams['line_search'] = 'bt'      # WORKS (7s) for np=32, T=3.0\n",
    "nlparams['line_search'] = 'cp'       # (8s) #\n",
    "#nlparams['line_search'] = 'basic'   # (7s)\n",
    "#nlparams['line_search'] = 'nleqerr' # (15s)\n",
    "#nlparams['line_search'] = 'l2'      # FAILING\n",
    "\n",
    "# \n",
    "nlparams['linear_solver'] = 'gmres'\n",
    "nlparams['preconditioner'] = 'hypre_amg'\n",
    "\n",
    "#nlparams['linear_solver'] = 'gmres'\n",
    "#nlparams['linear_solver'] = 'bicgstab'\n",
    "#nlparams['linear_solver'] = 'minres'\n",
    "\n",
    "#nlparams['preconditioner'] = 'none'\n",
    "#nlparams['preconditioner'] = 'sor'\n",
    "#nlparams['preconditioner'] = 'petsc_amg'\n",
    "#nlparams['preconditioner'] = 'hypre_amg'\n",
    "\n",
    "nlparams['krylov_solver']['maximum_iterations'] = 5000\n",
    "nlparams['krylov_solver']['monitor_convergence'] = True\n"
   ]
  },
  {
   "cell_type": "code",
   "execution_count": 12,
   "id": "d6d80faf",
   "metadata": {
    "scrolled": true
   },
   "outputs": [
    {
     "name": "stdout",
     "output_type": "stream",
     "text": [
      "start\n",
      "Solving nonlinear variational problem.\n",
      "  0 SNES Function norm 3.647145002144e-04 \n",
      "    0 KSP preconditioned resid norm 4.294925341043e-04 true resid norm 3.647145002144e-04 ||r(i)||/||b|| 1.000000000000e+00\n",
      "    1 KSP preconditioned resid norm 1.223094979734e-04 true resid norm 8.483044012576e-02 ||r(i)||/||b|| 2.325940977830e+02\n",
      "    2 KSP preconditioned resid norm 8.676538224237e-05 true resid norm 2.690175687152e-01 ||r(i)||/||b|| 7.376113879679e+02\n",
      "    3 KSP preconditioned resid norm 5.391904889003e-05 true resid norm 2.609954211100e-01 ||r(i)||/||b|| 7.156156965421e+02\n",
      "    4 KSP preconditioned resid norm 5.307224443849e-05 true resid norm 2.809660530277e-01 ||r(i)||/||b|| 7.703725869482e+02\n",
      "    5 KSP preconditioned resid norm 4.851472878443e-05 true resid norm 4.451903685656e-01 ||r(i)||/||b|| 1.220654425047e+03\n",
      "    6 KSP preconditioned resid norm 4.840830596844e-05 true resid norm 5.476080305961e-01 ||r(i)||/||b|| 1.501470411168e+03\n",
      "    7 KSP preconditioned resid norm 4.513286348231e-05 true resid norm 1.173719117029e+00 ||r(i)||/||b|| 3.218186050565e+03\n",
      "    8 KSP preconditioned resid norm 4.507218105780e-05 true resid norm 1.041551365071e+00 ||r(i)||/||b|| 2.855799164713e+03\n",
      "    9 KSP preconditioned resid norm 4.352042264757e-05 true resid norm 1.981766515709e+00 ||r(i)||/||b|| 5.433747532780e+03\n",
      "   10 KSP preconditioned resid norm 4.168056599230e-05 true resid norm 1.026219581451e+00 ||r(i)||/||b|| 2.813761396510e+03\n",
      "   11 KSP preconditioned resid norm 4.150984081937e-05 true resid norm 1.080649620150e+00 ||r(i)||/||b|| 2.963001524520e+03\n",
      "   12 KSP preconditioned resid norm 3.797803062879e-05 true resid norm 1.265843615199e+00 ||r(i)||/||b|| 3.470779512344e+03\n",
      "   13 KSP preconditioned resid norm 3.794477520400e-05 true resid norm 1.223661312241e+00 ||r(i)||/||b|| 3.355121092038e+03\n",
      "   14 KSP preconditioned resid norm 3.649466788792e-05 true resid norm 1.515940660340e+00 ||r(i)||/||b|| 4.156513271200e+03\n",
      "   15 KSP preconditioned resid norm 3.492555939168e-05 true resid norm 7.366336081335e-01 ||r(i)||/||b|| 2.019754102731e+03\n",
      "   16 KSP preconditioned resid norm 3.393694050378e-05 true resid norm 1.322844982697e+00 ||r(i)||/||b|| 3.627069891432e+03\n",
      "   17 KSP preconditioned resid norm 3.053879442700e-05 true resid norm 7.980784556601e-01 ||r(i)||/||b|| 2.188227929493e+03\n",
      "   18 KSP preconditioned resid norm 2.950359890247e-05 true resid norm 3.959755053927e-01 ||r(i)||/||b|| 1.085713633979e+03\n",
      "   19 KSP preconditioned resid norm 2.503060363956e-05 true resid norm 1.030420727973e+00 ||r(i)||/||b|| 2.825280397042e+03\n",
      "   20 KSP preconditioned resid norm 2.263993091237e-05 true resid norm 4.059684907433e-01 ||r(i)||/||b|| 1.113113107663e+03\n",
      "   21 KSP preconditioned resid norm 1.876440318868e-05 true resid norm 1.083871793439e+00 ||r(i)||/||b|| 2.971836307035e+03\n",
      "   22 KSP preconditioned resid norm 1.432501975167e-05 true resid norm 7.514464524067e-01 ||r(i)||/||b|| 2.060369006346e+03\n",
      "   23 KSP preconditioned resid norm 1.019142101266e-05 true resid norm 6.679212746667e-01 ||r(i)||/||b|| 1.831353769247e+03\n",
      "   24 KSP preconditioned resid norm 6.044930259521e-06 true resid norm 3.819101800223e-01 ||r(i)||/||b|| 1.047148330537e+03\n",
      "   25 KSP preconditioned resid norm 3.067225552145e-06 true resid norm 2.091080048461e-01 ||r(i)||/||b|| 5.733471104744e+02\n",
      "   26 KSP preconditioned resid norm 1.347546596082e-06 true resid norm 1.080364071519e-01 ||r(i)||/||b|| 2.962218587098e+02\n",
      "   27 KSP preconditioned resid norm 4.936446707486e-07 true resid norm 4.232683698837e-02 ||r(i)||/||b|| 1.160547139296e+02\n",
      "   28 KSP preconditioned resid norm 1.819576724310e-07 true resid norm 1.757811103346e-02 ||r(i)||/||b|| 4.819690750745e+01\n",
      "   29 KSP preconditioned resid norm 5.779837357391e-08 true resid norm 5.437389305632e-03 ||r(i)||/||b|| 1.490861839174e+01\n",
      "   30 KSP preconditioned resid norm 1.735597457864e-08 true resid norm 1.505400701599e-03 ||r(i)||/||b|| 4.127614067205e+00\n",
      "   31 KSP preconditioned resid norm 1.391768760048e-08 true resid norm 5.431726463245e-04 ||r(i)||/||b|| 1.489309161015e+00\n",
      "   32 KSP preconditioned resid norm 6.596235523661e-09 true resid norm 9.660540999129e-04 ||r(i)||/||b|| 2.648795425860e+00\n",
      "   33 KSP preconditioned resid norm 4.004908481914e-09 true resid norm 2.721493859646e-04 ||r(i)||/||b|| 7.461984259047e-01\n",
      "  1 SNES Function norm 2.721502905415e-04 \n",
      "    0 KSP preconditioned resid norm 4.494890022285e-09 true resid norm 2.721502905415e-04 ||r(i)||/||b|| 1.000000000000e+00\n",
      "    1 KSP preconditioned resid norm 4.373849879938e-09 true resid norm 3.461449344134e-04 ||r(i)||/||b|| 1.271888902726e+00\n",
      "    2 KSP preconditioned resid norm 4.064449688760e-09 true resid norm 4.495528648323e-04 ||r(i)||/||b|| 1.651855171413e+00\n",
      "    3 KSP preconditioned resid norm 3.025554753390e-09 true resid norm 1.274143707927e-04 ||r(i)||/||b|| 4.681765010766e-01\n",
      "    4 KSP preconditioned resid norm 2.382075780951e-09 true resid norm 9.471303623957e-05 ||r(i)||/||b|| 3.480173989568e-01\n",
      "    5 KSP preconditioned resid norm 2.104338100964e-09 true resid norm 6.469497992487e-05 ||r(i)||/||b|| 2.377178425794e-01\n",
      "    6 KSP preconditioned resid norm 1.949792318651e-09 true resid norm 9.637300631246e-05 ||r(i)||/||b|| 3.541168599186e-01\n",
      "    7 KSP preconditioned resid norm 1.635672315373e-09 true resid norm 6.547659533842e-05 ||r(i)||/||b|| 2.405898417678e-01\n",
      "    8 KSP preconditioned resid norm 1.353739070348e-09 true resid norm 5.165839413570e-05 ||r(i)||/||b|| 1.898156861524e-01\n",
      "    9 KSP preconditioned resid norm 1.076455239072e-09 true resid norm 4.076953485492e-05 ||r(i)||/||b|| 1.498052225989e-01\n",
      "   10 KSP preconditioned resid norm 8.730725887205e-10 true resid norm 5.168653133132e-05 ||r(i)||/||b|| 1.899190745984e-01\n",
      "   11 KSP preconditioned resid norm 8.420624160618e-10 true resid norm 3.805026622924e-05 ||r(i)||/||b|| 1.398134323264e-01\n",
      "   12 KSP preconditioned resid norm 6.043776216714e-10 true resid norm 7.070016882017e-05 ||r(i)||/||b|| 2.597835507708e-01\n",
      "   13 KSP preconditioned resid norm 4.909332469921e-10 true resid norm 2.977374556106e-05 ||r(i)||/||b|| 1.094018510942e-01\n",
      "   14 KSP preconditioned resid norm 4.887895008645e-10 true resid norm 3.264990188337e-05 ||r(i)||/||b|| 1.199701158445e-01\n",
      "   15 KSP preconditioned resid norm 3.672400299111e-10 true resid norm 2.953149312226e-05 ||r(i)||/||b|| 1.085117089660e-01\n",
      "   16 KSP preconditioned resid norm 3.413483290115e-10 true resid norm 1.984765502627e-05 ||r(i)||/||b|| 7.292902383746e-02\n",
      "   17 KSP preconditioned resid norm 2.851900985926e-10 true resid norm 2.145243037154e-05 ||r(i)||/||b|| 7.882567506675e-02\n",
      "   18 KSP preconditioned resid norm 1.823296487020e-10 true resid norm 1.260288067636e-05 ||r(i)||/||b|| 4.630853287456e-02\n",
      "   19 KSP preconditioned resid norm 1.468864628106e-10 true resid norm 9.004962819250e-06 ||r(i)||/||b|| 3.308819844114e-02\n",
      "   20 KSP preconditioned resid norm 1.097735536487e-10 true resid norm 9.347816700842e-06 ||r(i)||/||b|| 3.434799456669e-02\n",
      "   21 KSP preconditioned resid norm 1.021584186232e-10 true resid norm 7.584017227266e-06 ||r(i)||/||b|| 2.786701866890e-02\n",
      "   22 KSP preconditioned resid norm 1.018676705109e-10 true resid norm 7.293546977173e-06 ||r(i)||/||b|| 2.679970307091e-02\n",
      "   23 KSP preconditioned resid norm 9.221997103315e-11 true resid norm 5.311485069984e-06 ||r(i)||/||b|| 1.951673488724e-02\n",
      "   24 KSP preconditioned resid norm 9.140143327941e-11 true resid norm 5.343643325266e-06 ||r(i)||/||b|| 1.963489847699e-02\n",
      "   25 KSP preconditioned resid norm 8.687172401247e-11 true resid norm 4.864189447944e-06 ||r(i)||/||b|| 1.787317381975e-02\n",
      "   26 KSP preconditioned resid norm 8.499828042243e-11 true resid norm 4.451221992767e-06 ||r(i)||/||b|| 1.635574955261e-02\n",
      "   27 KSP preconditioned resid norm 7.719042002431e-11 true resid norm 5.281636561434e-06 ||r(i)||/||b|| 1.940705832401e-02\n",
      "   28 KSP preconditioned resid norm 5.123022744802e-11 true resid norm 3.394741158502e-06 ||r(i)||/||b|| 1.247377378047e-02\n",
      "   29 KSP preconditioned resid norm 2.304625551870e-11 true resid norm 2.753372380304e-06 ||r(i)||/||b|| 1.011710248343e-02\n",
      "   30 KSP preconditioned resid norm 8.191908747785e-12 true resid norm 8.200594870408e-07 ||r(i)||/||b|| 3.013259641977e-03\n",
      "   31 KSP preconditioned resid norm 8.028930437045e-12 true resid norm 7.547713677367e-07 ||r(i)||/||b|| 2.773362344148e-03\n",
      "   32 KSP preconditioned resid norm 5.790881627901e-12 true resid norm 9.441127005395e-07 ||r(i)||/||b|| 3.469085771179e-03\n",
      "   33 KSP preconditioned resid norm 4.406634222149e-12 true resid norm 5.065881912066e-07 ||r(i)||/||b|| 1.861428074167e-03\n",
      "   34 KSP preconditioned resid norm 4.293512819639e-12 true resid norm 6.090607971090e-07 ||r(i)||/||b|| 2.237957548740e-03\n",
      "   35 KSP preconditioned resid norm 4.291256233820e-12 true resid norm 5.966074044602e-07 ||r(i)||/||b|| 2.192198300701e-03\n",
      "   36 KSP preconditioned resid norm 4.110597041344e-12 true resid norm 4.272799282165e-07 ||r(i)||/||b|| 1.570014595121e-03\n",
      "   37 KSP preconditioned resid norm 3.964533069634e-12 true resid norm 2.779740114806e-07 ||r(i)||/||b|| 1.021398915017e-03\n",
      "   38 KSP preconditioned resid norm 3.955388662301e-12 true resid norm 2.683139616813e-07 ||r(i)||/||b|| 9.859036385647e-04\n",
      "   39 KSP preconditioned resid norm 3.955314453982e-12 true resid norm 2.681179961191e-07 ||r(i)||/||b|| 9.851835748022e-04\n",
      "   40 KSP preconditioned resid norm 3.450846356889e-12 true resid norm 2.307199142652e-07 ||r(i)||/||b|| 8.477665550389e-04\n",
      "   41 KSP preconditioned resid norm 3.358763022479e-12 true resid norm 2.312629127958e-07 ||r(i)||/||b|| 8.497617707321e-04\n",
      "   42 KSP preconditioned resid norm 2.977725166197e-12 true resid norm 2.484533598612e-07 ||r(i)||/||b|| 9.129270425063e-04\n",
      "   43 KSP preconditioned resid norm 2.974585194342e-12 true resid norm 2.383779147987e-07 ||r(i)||/||b|| 8.759054209513e-04\n",
      "   44 KSP preconditioned resid norm 2.306039442542e-12 true resid norm 2.405116929896e-07 ||r(i)||/||b|| 8.837458615645e-04\n",
      "   45 KSP preconditioned resid norm 2.222691296147e-12 true resid norm 1.739130624133e-07 ||r(i)||/||b|| 6.390331682810e-04\n",
      "   46 KSP preconditioned resid norm 1.925466087633e-12 true resid norm 2.981501843312e-07 ||r(i)||/||b|| 1.095535057993e-03\n",
      "   47 KSP preconditioned resid norm 1.028679344619e-12 true resid norm 4.653935989146e-08 ||r(i)||/||b|| 1.710061003384e-04\n",
      "   48 KSP preconditioned resid norm 8.757766469673e-13 true resid norm 3.711500131797e-08 ||r(i)||/||b|| 1.363768572289e-04\n",
      "   49 KSP preconditioned resid norm 6.596425676587e-13 true resid norm 3.292559225258e-08 ||r(i)||/||b|| 1.209831236523e-04\n",
      "   50 KSP preconditioned resid norm 5.245891132960e-13 true resid norm 2.717330635532e-08 ||r(i)||/||b|| 9.984669243327e-05\n",
      "   51 KSP preconditioned resid norm 2.853810229432e-13 true resid norm 1.818117546924e-08 ||r(i)||/||b|| 6.680564416472e-05\n",
      "   52 KSP preconditioned resid norm 2.440969544002e-13 true resid norm 1.066895550419e-08 ||r(i)||/||b|| 3.920244025079e-05\n",
      "   53 KSP preconditioned resid norm 2.084873806720e-13 true resid norm 1.145071523227e-08 ||r(i)||/||b|| 4.207496971429e-05\n",
      "   54 KSP preconditioned resid norm 1.775192504092e-13 true resid norm 5.460860619632e-09 ||r(i)||/||b|| 2.006560642933e-05\n",
      "   55 KSP preconditioned resid norm 1.640356818116e-13 true resid norm 7.980857212989e-09 ||r(i)||/||b|| 2.932518351206e-05\n",
      "   56 KSP preconditioned resid norm 1.443504692373e-13 true resid norm 4.511182570564e-09 ||r(i)||/||b|| 1.657607111713e-05\n",
      "   57 KSP preconditioned resid norm 1.408117523014e-13 true resid norm 5.220083448149e-09 ||r(i)||/||b|| 1.918088508288e-05\n",
      "   58 KSP preconditioned resid norm 1.151246601542e-13 true resid norm 5.391718897008e-09 ||r(i)||/||b|| 1.981154929609e-05\n",
      "   59 KSP preconditioned resid norm 9.109214695154e-14 true resid norm 4.246568976597e-09 ||r(i)||/||b|| 1.560376425889e-05\n",
      "   60 KSP preconditioned resid norm 5.256310464175e-14 true resid norm 3.290928454161e-09 ||r(i)||/||b|| 1.209232019416e-05\n",
      "   61 KSP preconditioned resid norm 5.187795069917e-14 true resid norm 3.034302487043e-09 ||r(i)||/||b|| 1.114936339405e-05\n",
      "   62 KSP preconditioned resid norm 3.634378354631e-14 true resid norm 2.800608664210e-09 ||r(i)||/||b|| 1.029066938947e-05\n",
      "  2 SNES Function norm 2.589165284516e-09 \n",
      "  PETSc SNES solver converged in 2 iterations with convergence reason CONVERGED_FNORM_ABS.\n"
     ]
    }
   ],
   "source": [
    "# solve\n",
    "print('start')\n",
    "niters, converged = solver.solve()"
   ]
  },
  {
   "cell_type": "code",
   "execution_count": 13,
   "id": "1e2b125c",
   "metadata": {},
   "outputs": [
    {
     "name": "stdout",
     "output_type": "stream",
     "text": [
      "2\n",
      "True\n"
     ]
    }
   ],
   "source": [
    "print(niters)\n",
    "print(converged)"
   ]
  },
  {
   "cell_type": "code",
   "execution_count": 14,
   "id": "152d15d5",
   "metadata": {},
   "outputs": [],
   "source": [
    "ux, uy = w.split()"
   ]
  },
  {
   "cell_type": "code",
   "execution_count": 15,
   "id": "76a95940",
   "metadata": {},
   "outputs": [
    {
     "name": "stdout",
     "output_type": "stream",
     "text": [
      "Object cannot be plotted directly, projecting to piecewise linears.\n"
     ]
    },
    {
     "data": {
      "text/plain": [
       "<matplotlib.colorbar.Colorbar at 0x7f01124a8210>"
      ]
     },
     "execution_count": 15,
     "metadata": {},
     "output_type": "execute_result"
    },
    {
     "data": {
      "image/png": "[encoded data removed]",
      "text/plain": [
       "<Figure size 640x480 with 2 Axes>"
      ]
     },
     "metadata": {},
     "output_type": "display_data"
    }
   ],
   "source": [
    "c = plot(uy*1e3)\n",
    "plt.colorbar(c)"
   ]
  },
  {
   "cell_type": "code",
   "execution_count": null,
   "id": "c65041b1",
   "metadata": {},
   "outputs": [],
   "source": []
  }
 ],
 "metadata": {
  "kernelspec": {
   "display_name": "Python 3 (ipykernel)",
   "language": "python",
   "name": "python3"
  },
  "language_info": {
   "codemirror_mode": {
    "name": "ipython",
    "version": 3
   },
   "file_extension": ".py",
   "mimetype": "text/x-python",
   "name": "python",
   "nbconvert_exporter": "python",
   "pygments_lexer": "ipython3",
   "version": "3.11.0"
  }
 },
 "nbformat": 4,
 "nbformat_minor": 5
}
