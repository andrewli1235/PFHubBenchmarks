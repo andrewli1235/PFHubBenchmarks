{
 "cells": [
  {
   "cell_type": "code",
   "execution_count": 4,
   "id": "815dd4b1",
   "metadata": {},
   "outputs": [],
   "source": [
    "#\n",
    "from dolfin import *\n",
    "import numpy as np\n",
    "import pandas as pd\n",
    "\n",
    "import os, shutil\n",
    "\n",
    "def process_bench(dirname):\n",
    "    hdf = HDF5File(MPI.comm_world, dirname + \"conc.h5\", \"r\")\n",
    "\n",
    "    stats = pd.read_csv(dirname + \"bench_ali_v2_out.csv\")\n",
    "    times = np.array(stats.time)\n",
    "    Nt = times.size\n",
    "\n",
    "    mesh = Mesh()\n",
    "    hdf.read(mesh, \"mesh\", True)\n",
    "\n",
    "    V = FunctionSpace(mesh, 'P', 1)\n",
    "\n",
    "    cs = []\n",
    "\n",
    "    for i in range(Nt):\n",
    "        c = Function(V)\n",
    "\n",
    "        hdf.read(c, f\"c/vector_{i}\")\n",
    "\n",
    "        cs.append(c)\n",
    "\n",
    "    if MPI.comm_world.rank == 0:\n",
    "        print(\"done reading HDF5\")\n",
    "\n",
    "    return mesh, times, cs, stats\n"
   ]
  },
  {
   "cell_type": "code",
   "execution_count": 5,
   "id": "dc929810",
   "metadata": {},
   "outputs": [
    {
     "name": "stderr",
     "output_type": "stream",
     "text": [
      "HDF5-DIAG: Error detected in HDF5 (1.12.2) MPI-process 0:\n",
      "  #000: H5L.c line 943 in H5Lexists(): unable to get link info\n",
      "    major: Links\n",
      "    minor: Can't get value\n",
      "  #001: H5VLcallback.c line 5173 in H5VL_link_specific(): unable to execute link specific callback\n",
      "    major: Virtual Object Layer\n",
      "    minor: Can't operate on object\n",
      "  #002: H5VLcallback.c line 5136 in H5VL__link_specific(): unable to execute link specific callback\n",
      "    major: Virtual Object Layer\n",
      "    minor: Can't operate on object\n",
      "  #003: H5VLnative_link.c line 329 in H5VL__native_link_specific(): unable to specific link info\n",
      "    major: Links\n",
      "    minor: Object not found\n",
      "  #004: H5L.c line 3082 in H5L__exists(): path doesn't exist\n",
      "    major: Links\n",
      "    minor: Object already exists\n",
      "  #005: H5Gtraverse.c line 837 in H5G_traverse(): internal path traversal failed\n",
      "    major: Symbol table\n",
      "    minor: Object not found\n",
      "  #006: H5Gtraverse.c line 729 in H5G__traverse_real(): component not found\n",
      "    major: Symbol table\n",
      "    minor: Object not found\n",
      "HDF5-DIAG: Error detected in HDF5 (1.12.2) MPI-process 0:\n",
      "  #000: H5O.c line 606 in H5Oget_info_by_name3(): can't get data model info for object\n",
      "    major: Object header\n",
      "    minor: Can't get value\n",
      "  #001: H5VLcallback.c line 5603 in H5VL_object_get(): get failed\n",
      "    major: Virtual Object Layer\n",
      "    minor: Can't get value\n",
      "  #002: H5VLcallback.c line 5566 in H5VL__object_get(): get failed\n",
      "    major: Virtual Object Layer\n",
      "    minor: Can't get value\n",
      "  #003: H5VLnative_object.c line 248 in H5VL__native_object_get(): object not found\n",
      "    major: Object header\n",
      "    minor: Object not found\n",
      "  #004: H5Gloc.c line 815 in H5G_loc_info(): can't find object\n",
      "    major: Symbol table\n",
      "    minor: Object not found\n",
      "  #005: H5Gtraverse.c line 837 in H5G_traverse(): internal path traversal failed\n",
      "    major: Symbol table\n",
      "    minor: Object not found\n",
      "  #006: H5Gtraverse.c line 729 in H5G__traverse_real(): component not found\n",
      "    major: Symbol table\n",
      "    minor: Object not found\n"
     ]
    },
    {
     "ename": "RuntimeError",
     "evalue": "\n\n*** -------------------------------------------------------------------------\n*** DOLFIN encountered an error. If you are not able to resolve this issue\n*** using the information listed below, you can ask for help at\n***\n***     fenics-support@googlegroups.com\n***\n*** Remember to include the error message listed below and, if possible,\n*** include a *minimal* running example to reproduce the error.\n***\n*** -------------------------------------------------------------------------\n*** Error:   Unable to read function from file.\n*** Reason:  Group with name \"c/vector_0\" does not exist.\n*** Where:   This error was encountered inside HDF5File.cpp.\n*** Process: 0\n*** \n*** DOLFIN version: 2019.1.0\n*** Git changeset:  3ea2183fbfe7277de9f16cbe1a9ffaab133ba1fa\n*** -------------------------------------------------------------------------\n",
     "output_type": "error",
     "traceback": [
      "\u001b[0;31m---------------------------------------------------------------------------\u001b[0m",
      "\u001b[0;31mRuntimeError\u001b[0m                              Traceback (most recent call last)",
      "Cell \u001b[0;32mIn[5], line 2\u001b[0m\n\u001b[1;32m      1\u001b[0m dirname \u001b[38;5;241m=\u001b[39m \u001b[38;5;124m\"\u001b[39m\u001b[38;5;124m./results/bench_ali_v2/\u001b[39m\u001b[38;5;124m\"\u001b[39m\n\u001b[0;32m----> 2\u001b[0m mesh, times, cs, stats \u001b[38;5;241m=\u001b[39m \u001b[43mprocess_bench\u001b[49m\u001b[43m(\u001b[49m\u001b[43mdirname\u001b[49m\u001b[43m)\u001b[49m\n\u001b[1;32m      4\u001b[0m file \u001b[38;5;241m=\u001b[39m File(dirname \u001b[38;5;241m+\u001b[39m \u001b[38;5;124m\"\u001b[39m\u001b[38;5;124mc.pvd\u001b[39m\u001b[38;5;124m\"\u001b[39m , \u001b[38;5;124m\"\u001b[39m\u001b[38;5;124mcompressed\u001b[39m\u001b[38;5;124m\"\u001b[39m)\n\u001b[1;32m      5\u001b[0m file \u001b[38;5;241m<<\u001b[39m mesh\n",
      "Cell \u001b[0;32mIn[4], line 25\u001b[0m, in \u001b[0;36mprocess_bench\u001b[0;34m(dirname)\u001b[0m\n\u001b[1;32m     22\u001b[0m \u001b[38;5;28;01mfor\u001b[39;00m i \u001b[38;5;129;01min\u001b[39;00m \u001b[38;5;28mrange\u001b[39m(Nt):\n\u001b[1;32m     23\u001b[0m     c \u001b[38;5;241m=\u001b[39m Function(V)\n\u001b[0;32m---> 25\u001b[0m     \u001b[43mhdf\u001b[49m\u001b[38;5;241;43m.\u001b[39;49m\u001b[43mread\u001b[49m\u001b[43m(\u001b[49m\u001b[43mc\u001b[49m\u001b[43m,\u001b[49m\u001b[43m \u001b[49m\u001b[38;5;124;43mf\u001b[39;49m\u001b[38;5;124;43m\"\u001b[39;49m\u001b[38;5;124;43mc/vector_\u001b[39;49m\u001b[38;5;132;43;01m{\u001b[39;49;00m\u001b[43mi\u001b[49m\u001b[38;5;132;43;01m}\u001b[39;49;00m\u001b[38;5;124;43m\"\u001b[39;49m\u001b[43m)\u001b[49m\n\u001b[1;32m     27\u001b[0m     cs\u001b[38;5;241m.\u001b[39mappend(c)\n\u001b[1;32m     29\u001b[0m \u001b[38;5;28;01mif\u001b[39;00m MPI\u001b[38;5;241m.\u001b[39mcomm_world\u001b[38;5;241m.\u001b[39mrank \u001b[38;5;241m==\u001b[39m \u001b[38;5;241m0\u001b[39m:\n",
      "\u001b[0;31mRuntimeError\u001b[0m: \n\n*** -------------------------------------------------------------------------\n*** DOLFIN encountered an error. If you are not able to resolve this issue\n*** using the information listed below, you can ask for help at\n***\n***     fenics-support@googlegroups.com\n***\n*** Remember to include the error message listed below and, if possible,\n*** include a *minimal* running example to reproduce the error.\n***\n*** -------------------------------------------------------------------------\n*** Error:   Unable to read function from file.\n*** Reason:  Group with name \"c/vector_0\" does not exist.\n*** Where:   This error was encountered inside HDF5File.cpp.\n*** Process: 0\n*** \n*** DOLFIN version: 2019.1.0\n*** Git changeset:  3ea2183fbfe7277de9f16cbe1a9ffaab133ba1fa\n*** -------------------------------------------------------------------------\n"
     ]
    }
   ],
   "source": [
    "\n",
    "dirname = \"./results/bench_ali_v2/\"\n",
    "mesh, times, cs, stats = process_bench(dirname)\n",
    "\n",
    "file = File(dirname + \"c.pvd\" , \"compressed\")\n",
    "file << mesh\n",
    "\n",
    "for i in range(times.size):\n",
    "    if MPI.comm_world.rank == 0:\n",
    "        print(f\"writing step {i}\")\n",
    "    file << cs[i]\n"
   ]
  },
  {
   "cell_type": "code",
   "execution_count": null,
   "id": "cdee9a12",
   "metadata": {},
   "outputs": [],
   "source": []
  }
 ],
 "metadata": {
  "kernelspec": {
   "display_name": "Python 3 (ipykernel)",
   "language": "python",
   "name": "python3"
  },
  "language_info": {
   "codemirror_mode": {
    "name": "ipython",
    "version": 3
   },
   "file_extension": ".py",
   "mimetype": "text/x-python",
   "name": "python",
   "nbconvert_exporter": "python",
   "pygments_lexer": "ipython3",
   "version": "3.11.0"
  }
 },
 "nbformat": 4,
 "nbformat_minor": 5
}
