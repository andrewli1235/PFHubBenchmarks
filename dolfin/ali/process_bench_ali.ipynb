{
 "cells": [
  {
   "cell_type": "code",
   "execution_count": 6,
   "id": "815dd4b1",
   "metadata": {},
   "outputs": [],
   "source": [
    "#\n",
    "from dolfin import *\n",
    "import numpy as np\n",
    "import pandas as pd\n",
    "\n",
    "import os, shutil\n",
    "\n",
    "def process_bench(dirname):\n",
    "    hdf = HDF5File(MPI.comm_world, dirname + \"conc.h5\", \"r\")\n",
    "\n",
    "    stats = pd.read_csv(dirname + \"bench_ali_v2_out.csv\")\n",
    "    times = np.array(stats.time)\n",
    "    Nt = times.size\n",
    "\n",
    "    mesh = Mesh()\n",
    "    hdf.read(mesh, \"mesh\", True)\n",
    "\n",
    "    V = FunctionSpace(mesh, 'P', 1)\n",
    "\n",
    "    cs = []\n",
    "\n",
    "    for i in range(Nt):\n",
    "        c = Function(V)\n",
    "\n",
    "        hdf.read(c, f\"c/vector_{i}\")\n",
    "\n",
    "        cs.append(c)\n",
    "\n",
    "    if MPI.comm_world.rank == 0:\n",
    "        print(\"done reading HDF5\")\n",
    "\n",
    "    return mesh, times, cs, stats\n"
   ]
  },
  {
   "cell_type": "code",
   "execution_count": 7,
   "id": "dc929810",
   "metadata": {},
   "outputs": [
    {
     "name": "stdout",
     "output_type": "stream",
     "text": [
      "done reading HDF5\n",
      "writing step 0\n",
      "writing step 1\n",
      "writing step 2\n",
      "writing step 3\n",
      "writing step 4\n",
      "writing step 5\n",
      "writing step 6\n",
      "writing step 7\n"
     ]
    }
   ],
   "source": [
    "\n",
    "dirname = \"./results/bench_ali_v2/\"\n",
    "mesh, times, cs, stats = process_bench(dirname)\n",
    "\n",
    "file = File(dirname + \"c.pvd\" , \"compressed\")\n",
    "file << mesh\n",
    "\n",
    "for i in range(times.size):\n",
    "    if MPI.comm_world.rank == 0:\n",
    "        print(f\"writing step {i}\")\n",
    "    file << cs[i]\n"
   ]
  },
  {
   "cell_type": "code",
   "execution_count": null,
   "id": "cdee9a12",
   "metadata": {},
   "outputs": [],
   "source": []
  }
 ],
 "metadata": {
  "kernelspec": {
   "display_name": "Python 3 (ipykernel)",
   "language": "python",
   "name": "python3"
  },
  "language_info": {
   "codemirror_mode": {
    "name": "ipython",
    "version": 3
   },
   "file_extension": ".py",
   "mimetype": "text/x-python",
   "name": "python",
   "nbconvert_exporter": "python",
   "pygments_lexer": "ipython3",
   "version": "3.11.0"
  }
 },
 "nbformat": 4,
 "nbformat_minor": 5
}
